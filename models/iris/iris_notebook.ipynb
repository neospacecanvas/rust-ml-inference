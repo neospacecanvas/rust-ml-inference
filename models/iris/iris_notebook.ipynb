{
 "cells": [
  {
   "cell_type": "code",
   "execution_count": 3,
   "metadata": {},
   "outputs": [],
   "source": [
    "import torch\n",
    "import torch.nn as nn \n",
    "from torch.utils.data import Dataset, DataLoader\n",
    "from sklearn.datasets import load_iris\n",
    "from sklearn.model_selection import train_test_split\n",
    "from alive_progress import alive_bar"
   ]
  },
  {
   "cell_type": "code",
   "execution_count": 4,
   "metadata": {},
   "outputs": [],
   "source": [
    "class IrisDataset(Dataset):\n",
    "    def __init__(self, features, labels):\n",
    "        self.features = features\n",
    "        self.labels = labels\n",
    "\n",
    "    def __len__(self):\n",
    "        return len(self.features)\n",
    "\n",
    "    def __getitem__(self, index):\n",
    "        x = self.features[index]\n",
    "        y = self.labels[index]\n",
    "        return x, y"
   ]
  },
  {
   "cell_type": "code",
   "execution_count": 5,
   "metadata": {},
   "outputs": [],
   "source": [
    "class IrisClassifier(nn.Module):\n",
    "    def __init__(self, input_size, hidden_size, num_classes):\n",
    "        super(IrisClassifier, self).__init__()\n",
    "        self.fc1 = nn.Linear(input_size, hidden_size)\n",
    "        self.relu = nn.ReLU()\n",
    "        self.fc2 = nn.Linear(hidden_size, num_classes)\n",
    "\n",
    "    def forward(self, x):\n",
    "        out = self.fc1(x)\n",
    "        out = self.relu(out)\n",
    "        out = self.fc2(out)\n",
    "        return out"
   ]
  },
  {
   "cell_type": "code",
   "execution_count": 6,
   "metadata": {},
   "outputs": [],
   "source": [
    "# Load the Iris dataset\n",
    "iris = load_iris()\n",
    "features = iris.data\n",
    "labels = iris.target\n",
    "\n",
    "# Split the dataset into training and testing sets\n",
    "train_features, test_features, train_labels, test_labels = train_test_split(\n",
    "    features, labels, test_size=0.2, random_state=42)\n",
    "\n",
    "# Convert the data to PyTorch tensors\n",
    "train_features = torch.tensor(train_features, dtype=torch.float32)\n",
    "train_labels = torch.tensor(train_labels, dtype=torch.long)\n",
    "test_features = torch.tensor(test_features, dtype=torch.float32)\n",
    "test_labels = torch.tensor(test_labels, dtype=torch.long)\n",
    "\n",
    "# Create the datasets\n",
    "train_dataset = IrisDataset(train_features, train_labels)\n",
    "test_dataset = IrisDataset(test_features, test_labels)\n",
    "\n",
    "# Create the data loaders\n",
    "train_loader = DataLoader(train_dataset, batch_size=32, shuffle=True)\n",
    "test_loader = DataLoader(test_dataset, batch_size=32, shuffle=False)"
   ]
  },
  {
   "cell_type": "code",
   "execution_count": 7,
   "metadata": {},
   "outputs": [
    {
     "name": "stdout",
     "output_type": "stream",
     "text": [
      "Features: torch.Size([32, 4])\n",
      "Labels: torch.Size([32])\n"
     ]
    }
   ],
   "source": [
    "# Example usage\n",
    "for features, labels in train_loader:\n",
    "    print(\"Features:\", features.shape)\n",
    "    print(\"Labels:\", labels.shape)\n",
    "    break"
   ]
  },
  {
   "cell_type": "code",
   "execution_count": 8,
   "metadata": {},
   "outputs": [
    {
     "name": "stdout",
     "output_type": "stream",
     "text": [
      "Epoch [10/100], Loss: 0.3883\n",
      "Epoch [20/100], Loss: 0.1852\n",
      "Epoch [30/100], Loss: 0.1242\n",
      "Epoch [40/100], Loss: 0.0849\n",
      "Epoch [50/100], Loss: 0.0478\n",
      "Epoch [60/100], Loss: 0.0740\n",
      "Epoch [70/100], Loss: 0.0531\n",
      "Epoch [80/100], Loss: 0.1336\n",
      "Epoch [90/100], Loss: 0.0499\n",
      "Epoch [100/100], Loss: 0.0361\n"
     ]
    },
    {
     "data": {
      "text/plain": [
       "IrisClassifier(\n",
       "  (fc1): Linear(in_features=4, out_features=10, bias=True)\n",
       "  (relu): ReLU()\n",
       "  (fc2): Linear(in_features=10, out_features=3, bias=True)\n",
       ")"
      ]
     },
     "execution_count": 8,
     "metadata": {},
     "output_type": "execute_result"
    }
   ],
   "source": [
    "\n",
    "input_size = 4\n",
    "hidden_size = 10\n",
    "num_classes = 3\n",
    "model = IrisClassifier(input_size, hidden_size, num_classes)\n",
    "\n",
    "# Define the loss function and optimizer\n",
    "criterion = nn.CrossEntropyLoss()\n",
    "optimizer = torch.optim.Adam(model.parameters(), lr=0.01)\n",
    "\n",
    "# Training loop\n",
    "num_epochs = 100\n",
    "for epoch in range(num_epochs):\n",
    "    for features, labels in train_loader:\n",
    "        # Forward pass\n",
    "        outputs = model(features)\n",
    "        loss = criterion(outputs, labels)\n",
    "\n",
    "        # Backward and optimize\n",
    "        optimizer.zero_grad()\n",
    "        loss.backward()\n",
    "        optimizer.step()\n",
    "\n",
    "    if (epoch + 1) % 10 == 0:\n",
    "        print(f\"Epoch [{epoch+1}/{num_epochs}], Loss: {loss.item():.4f}\")\n",
    "\n",
    "# Testing loop\n",
    "model.eval()"
   ]
  },
  {
   "cell_type": "code",
   "execution_count": 9,
   "metadata": {},
   "outputs": [],
   "source": [
    "def convert_to_onnx(model, input_size, file_name=\"iris_model.onnx\"):\n",
    "    # Import required libraries\n",
    "    import torch\n",
    "    import torch.onnx\n",
    "\n",
    "    # Create a dummy input tensor\n",
    "    dummy_input = torch.randn(1, input_size)\n",
    "\n",
    "    # Export the model to ONNX format\n",
    "    torch.onnx.export(model,               # model being run\n",
    "                      dummy_input,         # model input (or a tuple for multiple inputs)\n",
    "                      file_name,           # where to save the model\n",
    "                      export_params=True,  # store the trained parameter weights inside the model file\n",
    "                      opset_version=10,    # the ONNX version to export the model to\n",
    "                      do_constant_folding=True,  # whether to execute constant folding for optimization\n",
    "                      input_names=['input'],   # the model's input names\n",
    "                      output_names=['output'], # the model's output names\n",
    "                      dynamic_axes={'input' : {0 : 'batch_size'},    # variable length axes\n",
    "                                    'output' : {0 : 'batch_size'}})\n",
    "    \n",
    "    print(f\"Model has been converted to ONNX and saved as {file_name}\")\n",
    "\n",
    "# Example usage:\n",
    "# convert_to_onnx(model, input_size=4)"
   ]
  },
  {
   "cell_type": "code",
   "execution_count": 11,
   "metadata": {},
   "outputs": [
    {
     "name": "stdout",
     "output_type": "stream",
     "text": [
      "Model has been converted to ONNX and saved as iris_model.onnx\n"
     ]
    }
   ],
   "source": [
    "convert_to_onnx(model, input_size=4)"
   ]
  },
  {
   "cell_type": "code",
   "execution_count": null,
   "metadata": {},
   "outputs": [],
   "source": [
    "# %%\n",
    "def verify_onnx_model(pytorch_model, onnx_file, input_size):\n",
    "    import onnx\n",
    "    import onnxruntime\n",
    "    import numpy as np\n",
    "\n",
    "    # Load the ONNX model\n",
    "    onnx_model = onnx.load(onnx_file)\n",
    "    onnx.checker.check_model(onnx_model)\n",
    "\n",
    "    # Create an ONNX Runtime session\n",
    "    ort_session = onnxruntime.InferenceSession(onnx_file)\n",
    "\n",
    "    # Generate a random input\n",
    "    input_data = np.random.randn(1, input_size).astype(np.float32)\n",
    "\n",
    "    # Run inference with ONNX Runtime\n",
    "    ort_inputs = {ort_session.get_inputs()[0].name: input_data}\n",
    "    ort_outputs = ort_session.run(None, ort_inputs)\n",
    "\n",
    "    # Run inference with PyTorch\n",
    "    pytorch_input = torch.tensor(input_data)\n",
    "    pytorch_model.eval()\n",
    "    with torch.no_grad():\n",
    "        pytorch_output = pytorch_model(pytorch_input)\n",
    "\n",
    "    # Compare the results\n",
    "    np.testing.assert_allclose(ort_outputs[0], pytorch_output.numpy(), rtol=1e-03, atol=1e-05)\n",
    "    print(\"ONNX model verified successfully!\")"
   ]
  },
  {
   "cell_type": "code",
   "execution_count": null,
   "metadata": {},
   "outputs": [],
   "source": [
    "# Verify the ONNX model\n",
    "verify_onnx_model(model, \"iris_model.onnx\", input_size=4)"
   ]
  }
 ],
 "metadata": {
  "kernelspec": {
   "display_name": ".venv",
   "language": "python",
   "name": "python3"
  },
  "language_info": {
   "codemirror_mode": {
    "name": "ipython",
    "version": 3
   },
   "file_extension": ".py",
   "mimetype": "text/x-python",
   "name": "python",
   "nbconvert_exporter": "python",
   "pygments_lexer": "ipython3",
   "version": "3.12.5"
  }
 },
 "nbformat": 4,
 "nbformat_minor": 2
}
